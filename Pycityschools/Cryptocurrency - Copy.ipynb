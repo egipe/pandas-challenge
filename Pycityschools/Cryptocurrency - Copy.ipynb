{
 "cells": [
  {
   "cell_type": "code",
   "execution_count": 18,
   "metadata": {
    "collapsed": true
   },
   "outputs": [],
   "source": [
    "# Dependencies and Setup\n",
    "import pandas as pd"
   ]
  },
  {
   "cell_type": "code",
   "execution_count": 19,
   "metadata": {
    "collapsed": true
   },
   "outputs": [],
   "source": [
    "# File to Load (Remember to Change These)\n",
    "school_data_to_load = \"Resources/schools_complete.csv\"\n",
    "student_data_to_load = \"Resources/students_complete.csv\""
   ]
  },
  {
   "cell_type": "code",
   "execution_count": 20,
   "metadata": {
    "collapsed": true
   },
   "outputs": [],
   "source": [
    "# Read School and Student Data File and store into Pandas DataFrames\n",
    "school_data = pd.read_csv(school_data_to_load)\n",
    "student_data = pd.read_csv(student_data_to_load)"
   ]
  },
  {
   "cell_type": "code",
   "execution_count": 21,
   "metadata": {},
   "outputs": [
    {
     "output_type": "execute_result",
     "data": {
      "text/plain": "   Student ID       student_name gender grade        school_name  \\\n0           0       Paul Bradley      M   9th  Huang High School   \n1           1       Victor Smith      M  12th  Huang High School   \n2           2    Kevin Rodriguez      M  12th  Huang High School   \n3           3  Dr. Richard Scott      M  12th  Huang High School   \n4           4         Bonnie Ray      F   9th  Huang High School   \n\n   reading_score  math_score  School ID      type  size   budget  \n0             66          79          0  District  2917  1910635  \n1             94          61          0  District  2917  1910635  \n2             90          60          0  District  2917  1910635  \n3             67          58          0  District  2917  1910635  \n4             97          84          0  District  2917  1910635  ",
      "text/html": "<div>\n<style scoped>\n    .dataframe tbody tr th:only-of-type {\n        vertical-align: middle;\n    }\n\n    .dataframe tbody tr th {\n        vertical-align: top;\n    }\n\n    .dataframe thead th {\n        text-align: right;\n    }\n</style>\n<table border=\"1\" class=\"dataframe\">\n  <thead>\n    <tr style=\"text-align: right;\">\n      <th></th>\n      <th>Student ID</th>\n      <th>student_name</th>\n      <th>gender</th>\n      <th>grade</th>\n      <th>school_name</th>\n      <th>reading_score</th>\n      <th>math_score</th>\n      <th>School ID</th>\n      <th>type</th>\n      <th>size</th>\n      <th>budget</th>\n    </tr>\n  </thead>\n  <tbody>\n    <tr>\n      <th>0</th>\n      <td>0</td>\n      <td>Paul Bradley</td>\n      <td>M</td>\n      <td>9th</td>\n      <td>Huang High School</td>\n      <td>66</td>\n      <td>79</td>\n      <td>0</td>\n      <td>District</td>\n      <td>2917</td>\n      <td>1910635</td>\n    </tr>\n    <tr>\n      <th>1</th>\n      <td>1</td>\n      <td>Victor Smith</td>\n      <td>M</td>\n      <td>12th</td>\n      <td>Huang High School</td>\n      <td>94</td>\n      <td>61</td>\n      <td>0</td>\n      <td>District</td>\n      <td>2917</td>\n      <td>1910635</td>\n    </tr>\n    <tr>\n      <th>2</th>\n      <td>2</td>\n      <td>Kevin Rodriguez</td>\n      <td>M</td>\n      <td>12th</td>\n      <td>Huang High School</td>\n      <td>90</td>\n      <td>60</td>\n      <td>0</td>\n      <td>District</td>\n      <td>2917</td>\n      <td>1910635</td>\n    </tr>\n    <tr>\n      <th>3</th>\n      <td>3</td>\n      <td>Dr. Richard Scott</td>\n      <td>M</td>\n      <td>12th</td>\n      <td>Huang High School</td>\n      <td>67</td>\n      <td>58</td>\n      <td>0</td>\n      <td>District</td>\n      <td>2917</td>\n      <td>1910635</td>\n    </tr>\n    <tr>\n      <th>4</th>\n      <td>4</td>\n      <td>Bonnie Ray</td>\n      <td>F</td>\n      <td>9th</td>\n      <td>Huang High School</td>\n      <td>97</td>\n      <td>84</td>\n      <td>0</td>\n      <td>District</td>\n      <td>2917</td>\n      <td>1910635</td>\n    </tr>\n  </tbody>\n</table>\n</div>"
     },
     "metadata": {},
     "execution_count": 21
    }
   ],
   "source": [
    "# Combine the data into a single dataset.  \n",
    "df = pd.merge(student_data, school_data, how=\"left\", on=[\"school_name\", \"school_name\"])\n",
    "df.head()"
   ]
  },
  {
   "cell_type": "code",
   "execution_count": 48,
   "metadata": {
    "tags": []
   },
   "outputs": [
    {
     "output_type": "execute_result",
     "data": {
      "text/plain": "   Total Schools  Total Students  Total Budget  Average Math Score  \\\n0             15           39170      24649428           78.985371   \n\n   Average Reading Score  % Passing Math  % Passing Reading  % Overall Passing  \n0               81.87784       74.980853          85.805463          65.172326  ",
      "text/html": "<div>\n<style scoped>\n    .dataframe tbody tr th:only-of-type {\n        vertical-align: middle;\n    }\n\n    .dataframe tbody tr th {\n        vertical-align: top;\n    }\n\n    .dataframe thead th {\n        text-align: right;\n    }\n</style>\n<table border=\"1\" class=\"dataframe\">\n  <thead>\n    <tr style=\"text-align: right;\">\n      <th></th>\n      <th>Total Schools</th>\n      <th>Total Students</th>\n      <th>Total Budget</th>\n      <th>Average Math Score</th>\n      <th>Average Reading Score</th>\n      <th>% Passing Math</th>\n      <th>% Passing Reading</th>\n      <th>% Overall Passing</th>\n    </tr>\n  </thead>\n  <tbody>\n    <tr>\n      <th>0</th>\n      <td>15</td>\n      <td>39170</td>\n      <td>24649428</td>\n      <td>78.985371</td>\n      <td>81.87784</td>\n      <td>74.980853</td>\n      <td>85.805463</td>\n      <td>65.172326</td>\n    </tr>\n  </tbody>\n</table>\n</div>"
     },
     "metadata": {},
     "execution_count": 48
    }
   ],
   "source": [
    "# 1-  District Summary \n",
    "# Calculate the total number of schools\n",
    "schools_total = school_data[\"school_name\"].count()\n",
    "\n",
    " # Calculate the total number of students\n",
    "student_total = df[\"student_name\"].count()\n",
    "\n",
    "    # Calculate the total budget\n",
    "total_budget = school_data[\"budget\"].sum()\n",
    "\n",
    "    # Calculate the average math score \n",
    "avg_math = df[\"math_score\"].mean()\n",
    "\n",
    "    # Calculate the average reading score\n",
    "avg_reading = df[\"reading_score\"].mean()\n",
    "\n",
    "# Math Passers\n",
    "math_passers_df = df.loc[(df[\"math_score\"] >= 70)]\n",
    "passed_math = math_passers_df[\"student_name\"].count()\n",
    "\n",
    "# Reading Passers\n",
    "reading_passers_df = df.loc[(df[\"reading_score\"] >= 70)]\n",
    "passed_reading = reading_passers_df[\"student_name\"].count()\n",
    "\n",
    "# Math and Reading Passers\n",
    "math_and_reading_df = df.loc[(df[\"reading_score\"] >= 70) & (df[\"math_score\"] >=70 )]\n",
    "passed_math_reading = math_and_reading_df[\"student_name\"].count()\n",
    "\n",
    "# create the summary dataframe\n",
    "summary_df = pd.DataFrame({\"Total Schools\": [schools_total], \"Total Students\": [student_total], \"Total Budget\": [total_budget], \"Average Math Score\": [avg_math], \"Average Reading Score\": [avg_reading]})\n",
    "\n",
    "# add the other columns\n",
    "summary_df[\"% Passing Math\"] = (passed_math / student_total)*100\n",
    "summary_df[\"% Passing Reading\"] = (passed_reading / student_total)*100\n",
    "summary_df[\"% Overall Passing\"] = (passed_math_reading/student_total)*100\n",
    "summary_df\n",
    "\n",
    "# Format columns"
   ]
  },
  {
   "cell_type": "code",
   "execution_count": 41,
   "metadata": {},
   "outputs": [
    {
     "output_type": "execute_result",
     "data": {
      "text/plain": "                               Total Students  Total School Budget  \\\nschool_name          type                                            \nBailey High School   District            4976              3124928   \nCabrera High School  Charter             1858              1081356   \nFigueroa High School District            2949              1884411   \nFord High School     District            2739              1763916   \nGriffin High School  Charter             1468               917500   \n\n                               Per Student Budget  Average Math Score  \\\nschool_name          type                                               \nBailey High School   District               628.0           77.048432   \nCabrera High School  Charter                582.0           83.061895   \nFigueroa High School District               639.0           76.711767   \nFord High School     District               644.0           77.102592   \nGriffin High School  Charter                625.0           83.351499   \n\n                               % Passed Math  Average Reading Score  \\\nschool_name          type                                             \nBailey High School   District      66.680064              81.033963   \nCabrera High School  Charter       94.133477              83.975780   \nFigueroa High School District      65.988471              81.158020   \nFord High School     District      68.309602              80.746258   \nGriffin High School  Charter       93.392371              83.816757   \n\n                               % Passed Reading  % Overall Passing  \nschool_name          type                                           \nBailey High School   District         81.933280          54.642283  \nCabrera High School  Charter          97.039828          91.334769  \nFigueroa High School District         80.739234          53.204476  \nFord High School     District         79.299014          54.289887  \nGriffin High School  Charter          97.138965          90.599455  ",
      "text/html": "<div>\n<style scoped>\n    .dataframe tbody tr th:only-of-type {\n        vertical-align: middle;\n    }\n\n    .dataframe tbody tr th {\n        vertical-align: top;\n    }\n\n    .dataframe thead th {\n        text-align: right;\n    }\n</style>\n<table border=\"1\" class=\"dataframe\">\n  <thead>\n    <tr style=\"text-align: right;\">\n      <th></th>\n      <th></th>\n      <th>Total Students</th>\n      <th>Total School Budget</th>\n      <th>Per Student Budget</th>\n      <th>Average Math Score</th>\n      <th>% Passed Math</th>\n      <th>Average Reading Score</th>\n      <th>% Passed Reading</th>\n      <th>% Overall Passing</th>\n    </tr>\n    <tr>\n      <th>school_name</th>\n      <th>type</th>\n      <th></th>\n      <th></th>\n      <th></th>\n      <th></th>\n      <th></th>\n      <th></th>\n      <th></th>\n      <th></th>\n    </tr>\n  </thead>\n  <tbody>\n    <tr>\n      <th>Bailey High School</th>\n      <th>District</th>\n      <td>4976</td>\n      <td>3124928</td>\n      <td>628.0</td>\n      <td>77.048432</td>\n      <td>66.680064</td>\n      <td>81.033963</td>\n      <td>81.933280</td>\n      <td>54.642283</td>\n    </tr>\n    <tr>\n      <th>Cabrera High School</th>\n      <th>Charter</th>\n      <td>1858</td>\n      <td>1081356</td>\n      <td>582.0</td>\n      <td>83.061895</td>\n      <td>94.133477</td>\n      <td>83.975780</td>\n      <td>97.039828</td>\n      <td>91.334769</td>\n    </tr>\n    <tr>\n      <th>Figueroa High School</th>\n      <th>District</th>\n      <td>2949</td>\n      <td>1884411</td>\n      <td>639.0</td>\n      <td>76.711767</td>\n      <td>65.988471</td>\n      <td>81.158020</td>\n      <td>80.739234</td>\n      <td>53.204476</td>\n    </tr>\n    <tr>\n      <th>Ford High School</th>\n      <th>District</th>\n      <td>2739</td>\n      <td>1763916</td>\n      <td>644.0</td>\n      <td>77.102592</td>\n      <td>68.309602</td>\n      <td>80.746258</td>\n      <td>79.299014</td>\n      <td>54.289887</td>\n    </tr>\n    <tr>\n      <th>Griffin High School</th>\n      <th>Charter</th>\n      <td>1468</td>\n      <td>917500</td>\n      <td>625.0</td>\n      <td>83.351499</td>\n      <td>93.392371</td>\n      <td>83.816757</td>\n      <td>97.138965</td>\n      <td>90.599455</td>\n    </tr>\n  </tbody>\n</table>\n</div>"
     },
     "metadata": {},
     "execution_count": 41
    }
   ],
   "source": [
    "# 2- School Summary- START HERE\n",
    "grouped_school_df = df.groupby([\"school_name\", \"type\"])\n",
    "\n",
    "# find all the column values\n",
    "students_per_school = grouped_school_df[\"student_name\"].count()\n",
    "\n",
    "# BUDGET\n",
    "# Pull budget from original dataframe\n",
    "budget_per_school = grouped_school_df[\"budget\"].mean()\n",
    "budget_per_student = budget_per_school / students_per_school\n",
    "\n",
    "# MATH\n",
    "average_math = grouped_school_df[\"math_score\"].mean()\n",
    "passed_math_count = math_passers_df.groupby([\"school_name\"]).count()[\"student_name\"]\n",
    "percentage_passed_math = (passed_math_count / students_per_school) * 100\n",
    "\n",
    "# READING\n",
    "average_reading = grouped_school_df[\"reading_score\"].mean()\n",
    "passed_reading_count = reading_passers_df.groupby([\"school_name\"]).count()[\"student_name\"]\n",
    "percentage_passed_reading = (passed_reading_count / students_per_school) * 100\n",
    "\n",
    "# OVERALL\n",
    "passed_both_count = math_and_reading_df.groupby([\"school_name\"]).count()[\"student_name\"]\n",
    "percentage_overall = (passed_both_count / students_per_school) * 100\n",
    "\n",
    "# Create Data Frame\n",
    "school_summary_df = pd.DataFrame({\"Total Students\": students_per_school, \"Total School Budget\": budget_per_school, \"Per Student Budget\": budget_per_student, \"Average Math Score\": average_math, \"% Passed Math\": percentage_passed_math, \"Average Reading Score\": average_reading, \"% Passed Reading\": percentage_passed_reading, \"% Overall Passing\": percentage_overall})\n",
    "\n",
    "school_summary_df.head()\n"
   ]
  },
  {
   "cell_type": "code",
   "execution_count": 38,
   "metadata": {},
   "outputs": [
    {
     "output_type": "execute_result",
     "data": {
      "text/plain": "                             Total Students  Total School Budget  \\\nschool_name         type                                           \nCabrera High School Charter            1858              1081356   \nThomas High School  Charter            1635              1043130   \nGriffin High School Charter            1468               917500   \nWilson High School  Charter            2283              1319574   \nPena High School    Charter             962               585858   \n\n                             Per Student Budget  Average Math Score  \\\nschool_name         type                                              \nCabrera High School Charter               582.0           83.061895   \nThomas High School  Charter               638.0           83.418349   \nGriffin High School Charter               625.0           83.351499   \nWilson High School  Charter               578.0           83.274201   \nPena High School    Charter               609.0           83.839917   \n\n                             % Passed Math  Average Reading Score  \\\nschool_name         type                                            \nCabrera High School Charter      94.133477              83.975780   \nThomas High School  Charter      93.272171              83.848930   \nGriffin High School Charter      93.392371              83.816757   \nWilson High School  Charter      93.867718              83.989488   \nPena High School    Charter      94.594595              84.044699   \n\n                             % Passed Reading  % Overall Passing  \nschool_name         type                                          \nCabrera High School Charter         97.039828          91.334769  \nThomas High School  Charter         97.308869          90.948012  \nGriffin High School Charter         97.138965          90.599455  \nWilson High School  Charter         96.539641          90.582567  \nPena High School    Charter         95.945946          90.540541  ",
      "text/html": "<div>\n<style scoped>\n    .dataframe tbody tr th:only-of-type {\n        vertical-align: middle;\n    }\n\n    .dataframe tbody tr th {\n        vertical-align: top;\n    }\n\n    .dataframe thead th {\n        text-align: right;\n    }\n</style>\n<table border=\"1\" class=\"dataframe\">\n  <thead>\n    <tr style=\"text-align: right;\">\n      <th></th>\n      <th></th>\n      <th>Total Students</th>\n      <th>Total School Budget</th>\n      <th>Per Student Budget</th>\n      <th>Average Math Score</th>\n      <th>% Passed Math</th>\n      <th>Average Reading Score</th>\n      <th>% Passed Reading</th>\n      <th>% Overall Passing</th>\n    </tr>\n    <tr>\n      <th>school_name</th>\n      <th>type</th>\n      <th></th>\n      <th></th>\n      <th></th>\n      <th></th>\n      <th></th>\n      <th></th>\n      <th></th>\n      <th></th>\n    </tr>\n  </thead>\n  <tbody>\n    <tr>\n      <th>Cabrera High School</th>\n      <th>Charter</th>\n      <td>1858</td>\n      <td>1081356</td>\n      <td>582.0</td>\n      <td>83.061895</td>\n      <td>94.133477</td>\n      <td>83.975780</td>\n      <td>97.039828</td>\n      <td>91.334769</td>\n    </tr>\n    <tr>\n      <th>Thomas High School</th>\n      <th>Charter</th>\n      <td>1635</td>\n      <td>1043130</td>\n      <td>638.0</td>\n      <td>83.418349</td>\n      <td>93.272171</td>\n      <td>83.848930</td>\n      <td>97.308869</td>\n      <td>90.948012</td>\n    </tr>\n    <tr>\n      <th>Griffin High School</th>\n      <th>Charter</th>\n      <td>1468</td>\n      <td>917500</td>\n      <td>625.0</td>\n      <td>83.351499</td>\n      <td>93.392371</td>\n      <td>83.816757</td>\n      <td>97.138965</td>\n      <td>90.599455</td>\n    </tr>\n    <tr>\n      <th>Wilson High School</th>\n      <th>Charter</th>\n      <td>2283</td>\n      <td>1319574</td>\n      <td>578.0</td>\n      <td>83.274201</td>\n      <td>93.867718</td>\n      <td>83.989488</td>\n      <td>96.539641</td>\n      <td>90.582567</td>\n    </tr>\n    <tr>\n      <th>Pena High School</th>\n      <th>Charter</th>\n      <td>962</td>\n      <td>585858</td>\n      <td>609.0</td>\n      <td>83.839917</td>\n      <td>94.594595</td>\n      <td>84.044699</td>\n      <td>95.945946</td>\n      <td>90.540541</td>\n    </tr>\n  </tbody>\n</table>\n</div>"
     },
     "metadata": {},
     "execution_count": 38
    }
   ],
   "source": [
    "# Top Performing Schools (by % overall passing)\n",
    "\n",
    "top_schools_df = school_summary_df.sort_values(\"% Overall Passing\", ascending=False)\n",
    "top_schools_df.head(5)"
   ]
  },
  {
   "cell_type": "code",
   "execution_count": 39,
   "metadata": {},
   "outputs": [
    {
     "output_type": "execute_result",
     "data": {
      "text/plain": "                                Total Students  Total School Budget  \\\nschool_name           type                                            \nRodriguez High School District            3999              2547363   \nFigueroa High School  District            2949              1884411   \nHuang High School     District            2917              1910635   \nHernandez High School District            4635              3022020   \nJohnson High School   District            4761              3094650   \n\n                                Per Student Budget  Average Math Score  \\\nschool_name           type                                               \nRodriguez High School District               637.0           76.842711   \nFigueroa High School  District               639.0           76.711767   \nHuang High School     District               655.0           76.629414   \nHernandez High School District               652.0           77.289752   \nJohnson High School   District               650.0           77.072464   \n\n                                % Passed Math  Average Reading Score  \\\nschool_name           type                                             \nRodriguez High School District      66.366592              80.744686   \nFigueroa High School  District      65.988471              81.158020   \nHuang High School     District      65.683922              81.182722   \nHernandez High School District      66.752967              80.934412   \nJohnson High School   District      66.057551              80.966394   \n\n                                % Passed Reading  % Overall Passing  \nschool_name           type                                           \nRodriguez High School District         80.220055          52.988247  \nFigueroa High School  District         80.739234          53.204476  \nHuang High School     District         81.316421          53.513884  \nHernandez High School District         80.862999          53.527508  \nJohnson High School   District         81.222432          53.539172  ",
      "text/html": "<div>\n<style scoped>\n    .dataframe tbody tr th:only-of-type {\n        vertical-align: middle;\n    }\n\n    .dataframe tbody tr th {\n        vertical-align: top;\n    }\n\n    .dataframe thead th {\n        text-align: right;\n    }\n</style>\n<table border=\"1\" class=\"dataframe\">\n  <thead>\n    <tr style=\"text-align: right;\">\n      <th></th>\n      <th></th>\n      <th>Total Students</th>\n      <th>Total School Budget</th>\n      <th>Per Student Budget</th>\n      <th>Average Math Score</th>\n      <th>% Passed Math</th>\n      <th>Average Reading Score</th>\n      <th>% Passed Reading</th>\n      <th>% Overall Passing</th>\n    </tr>\n    <tr>\n      <th>school_name</th>\n      <th>type</th>\n      <th></th>\n      <th></th>\n      <th></th>\n      <th></th>\n      <th></th>\n      <th></th>\n      <th></th>\n      <th></th>\n    </tr>\n  </thead>\n  <tbody>\n    <tr>\n      <th>Rodriguez High School</th>\n      <th>District</th>\n      <td>3999</td>\n      <td>2547363</td>\n      <td>637.0</td>\n      <td>76.842711</td>\n      <td>66.366592</td>\n      <td>80.744686</td>\n      <td>80.220055</td>\n      <td>52.988247</td>\n    </tr>\n    <tr>\n      <th>Figueroa High School</th>\n      <th>District</th>\n      <td>2949</td>\n      <td>1884411</td>\n      <td>639.0</td>\n      <td>76.711767</td>\n      <td>65.988471</td>\n      <td>81.158020</td>\n      <td>80.739234</td>\n      <td>53.204476</td>\n    </tr>\n    <tr>\n      <th>Huang High School</th>\n      <th>District</th>\n      <td>2917</td>\n      <td>1910635</td>\n      <td>655.0</td>\n      <td>76.629414</td>\n      <td>65.683922</td>\n      <td>81.182722</td>\n      <td>81.316421</td>\n      <td>53.513884</td>\n    </tr>\n    <tr>\n      <th>Hernandez High School</th>\n      <th>District</th>\n      <td>4635</td>\n      <td>3022020</td>\n      <td>652.0</td>\n      <td>77.289752</td>\n      <td>66.752967</td>\n      <td>80.934412</td>\n      <td>80.862999</td>\n      <td>53.527508</td>\n    </tr>\n    <tr>\n      <th>Johnson High School</th>\n      <th>District</th>\n      <td>4761</td>\n      <td>3094650</td>\n      <td>650.0</td>\n      <td>77.072464</td>\n      <td>66.057551</td>\n      <td>80.966394</td>\n      <td>81.222432</td>\n      <td>53.539172</td>\n    </tr>\n  </tbody>\n</table>\n</div>"
     },
     "metadata": {},
     "execution_count": 39
    }
   ],
   "source": [
    "# Bottom Performing Schools (by % overall passing)\n",
    "\n",
    "bottom_schools_df = school_summary_df.sort_values(\"% Overall Passing\", ascending=True)\n",
    "bottom_schools_df.head(5)"
   ]
  },
  {
   "cell_type": "code",
   "execution_count": 26,
   "metadata": {},
   "outputs": [
    {
     "output_type": "execute_result",
     "data": {
      "text/plain": "                             9th       10th       11th       12th\nschool_name                                                      \nBailey High School     77.083676  76.996772  77.515588  76.492218\nCabrera High School    83.094697  83.154506  82.765560  83.277487\nFigueroa High School   76.403037  76.539974  76.884344  77.151369\nFord High School       77.361345  77.672316  76.918058  76.179963\nGriffin High School    82.044010  84.229064  83.842105  83.356164\nHernandez High School  77.438495  77.337408  77.136029  77.186567\nHolden High School     83.787402  83.429825  85.000000  82.855422\nHuang High School      77.027251  75.908735  76.446602  77.225641\nJohnson High School    77.187857  76.691117  77.491653  76.863248\nPena High School       83.625455  83.372000  84.328125  84.121547\nRodriguez High School  76.859966  76.612500  76.395626  77.690748\nShelton High School    83.420755  82.917411  83.383495  83.778976\nThomas High School     83.590022  83.087886  83.498795  83.497041\nWilson High School     83.085578  83.724422  83.195326  83.035794\nWright High School     83.264706  84.010288  83.836782  83.644986",
      "text/html": "<div>\n<style scoped>\n    .dataframe tbody tr th:only-of-type {\n        vertical-align: middle;\n    }\n\n    .dataframe tbody tr th {\n        vertical-align: top;\n    }\n\n    .dataframe thead th {\n        text-align: right;\n    }\n</style>\n<table border=\"1\" class=\"dataframe\">\n  <thead>\n    <tr style=\"text-align: right;\">\n      <th></th>\n      <th>9th</th>\n      <th>10th</th>\n      <th>11th</th>\n      <th>12th</th>\n    </tr>\n    <tr>\n      <th>school_name</th>\n      <th></th>\n      <th></th>\n      <th></th>\n      <th></th>\n    </tr>\n  </thead>\n  <tbody>\n    <tr>\n      <th>Bailey High School</th>\n      <td>77.083676</td>\n      <td>76.996772</td>\n      <td>77.515588</td>\n      <td>76.492218</td>\n    </tr>\n    <tr>\n      <th>Cabrera High School</th>\n      <td>83.094697</td>\n      <td>83.154506</td>\n      <td>82.765560</td>\n      <td>83.277487</td>\n    </tr>\n    <tr>\n      <th>Figueroa High School</th>\n      <td>76.403037</td>\n      <td>76.539974</td>\n      <td>76.884344</td>\n      <td>77.151369</td>\n    </tr>\n    <tr>\n      <th>Ford High School</th>\n      <td>77.361345</td>\n      <td>77.672316</td>\n      <td>76.918058</td>\n      <td>76.179963</td>\n    </tr>\n    <tr>\n      <th>Griffin High School</th>\n      <td>82.044010</td>\n      <td>84.229064</td>\n      <td>83.842105</td>\n      <td>83.356164</td>\n    </tr>\n    <tr>\n      <th>Hernandez High School</th>\n      <td>77.438495</td>\n      <td>77.337408</td>\n      <td>77.136029</td>\n      <td>77.186567</td>\n    </tr>\n    <tr>\n      <th>Holden High School</th>\n      <td>83.787402</td>\n      <td>83.429825</td>\n      <td>85.000000</td>\n      <td>82.855422</td>\n    </tr>\n    <tr>\n      <th>Huang High School</th>\n      <td>77.027251</td>\n      <td>75.908735</td>\n      <td>76.446602</td>\n      <td>77.225641</td>\n    </tr>\n    <tr>\n      <th>Johnson High School</th>\n      <td>77.187857</td>\n      <td>76.691117</td>\n      <td>77.491653</td>\n      <td>76.863248</td>\n    </tr>\n    <tr>\n      <th>Pena High School</th>\n      <td>83.625455</td>\n      <td>83.372000</td>\n      <td>84.328125</td>\n      <td>84.121547</td>\n    </tr>\n    <tr>\n      <th>Rodriguez High School</th>\n      <td>76.859966</td>\n      <td>76.612500</td>\n      <td>76.395626</td>\n      <td>77.690748</td>\n    </tr>\n    <tr>\n      <th>Shelton High School</th>\n      <td>83.420755</td>\n      <td>82.917411</td>\n      <td>83.383495</td>\n      <td>83.778976</td>\n    </tr>\n    <tr>\n      <th>Thomas High School</th>\n      <td>83.590022</td>\n      <td>83.087886</td>\n      <td>83.498795</td>\n      <td>83.497041</td>\n    </tr>\n    <tr>\n      <th>Wilson High School</th>\n      <td>83.085578</td>\n      <td>83.724422</td>\n      <td>83.195326</td>\n      <td>83.035794</td>\n    </tr>\n    <tr>\n      <th>Wright High School</th>\n      <td>83.264706</td>\n      <td>84.010288</td>\n      <td>83.836782</td>\n      <td>83.644986</td>\n    </tr>\n  </tbody>\n</table>\n</div>"
     },
     "metadata": {},
     "execution_count": 26
    }
   ],
   "source": [
    "# Math scores by grade (average score per grade)\n",
    "# 9th grade data frame\n",
    "ninth_graders_df = df.loc[df[\"grade\"] == \"9th\"]\n",
    "average_ninth_math = ninth_graders_df.groupby([\"school_name\"]).mean()[\"math_score\"]\n",
    "\n",
    "# 10th grade data frame\n",
    "tenth_graders_df = df.loc[df[\"grade\"] == \"10th\"]\n",
    "average_tenth_math = tenth_graders_df.groupby([\"school_name\"]).mean()[\"math_score\"]\n",
    "\n",
    "# 11th grade data frame\n",
    "eleventh_graders_df = df.loc[df[\"grade\"] == \"11th\"]\n",
    "average_eleventh_math = eleventh_graders_df.groupby([\"school_name\"]).mean()[\"math_score\"]\n",
    "\n",
    "# 12th grade data frame\n",
    "twelvth_grader_df = df.loc[df[\"grade\"] == \"12th\"]\n",
    "average_twelvth_math = twelvth_grader_df.groupby([\"school_name\"]).mean()[\"math_score\"]\n",
    "\n",
    "#create the summary dataframe\n",
    "\n",
    "grade_math_summary_df = pd.DataFrame({\"9th\": average_ninth_math, \"10th\": average_tenth_math, \"11th\": average_eleventh_math, \"12th\": average_twelvth_math})\n",
    "\n",
    "grade_math_summary_df\n"
   ]
  },
  {
   "cell_type": "code",
   "execution_count": 33,
   "metadata": {},
   "outputs": [
    {
     "output_type": "execute_result",
     "data": {
      "text/plain": "                             9th       10th       11th       12th\nschool_name                                                      \nBailey High School     81.303155  80.907183  80.945643  80.912451\nCabrera High School    83.676136  84.253219  83.788382  84.287958\nFigueroa High School   81.198598  81.408912  80.640339  81.384863\nFord High School       80.632653  81.262712  80.403642  80.662338\nGriffin High School    83.369193  83.706897  84.288089  84.013699\nHernandez High School  80.866860  80.660147  81.396140  80.857143\nHolden High School     83.677165  83.324561  83.815534  84.698795\nHuang High School      81.290284  81.512386  81.417476  80.305983\nJohnson High School    81.260714  80.773431  80.616027  81.227564\nPena High School       83.807273  83.612000  84.335938  84.591160\nRodriguez High School  80.993127  80.629808  80.864811  80.376426\nShelton High School    84.122642  83.441964  84.373786  82.781671\nThomas High School     83.728850  84.254157  83.585542  83.831361\nWilson High School     83.939778  84.021452  83.764608  84.317673\nWright High School     83.833333  83.812757  84.156322  84.073171",
      "text/html": "<div>\n<style scoped>\n    .dataframe tbody tr th:only-of-type {\n        vertical-align: middle;\n    }\n\n    .dataframe tbody tr th {\n        vertical-align: top;\n    }\n\n    .dataframe thead th {\n        text-align: right;\n    }\n</style>\n<table border=\"1\" class=\"dataframe\">\n  <thead>\n    <tr style=\"text-align: right;\">\n      <th></th>\n      <th>9th</th>\n      <th>10th</th>\n      <th>11th</th>\n      <th>12th</th>\n    </tr>\n    <tr>\n      <th>school_name</th>\n      <th></th>\n      <th></th>\n      <th></th>\n      <th></th>\n    </tr>\n  </thead>\n  <tbody>\n    <tr>\n      <th>Bailey High School</th>\n      <td>81.303155</td>\n      <td>80.907183</td>\n      <td>80.945643</td>\n      <td>80.912451</td>\n    </tr>\n    <tr>\n      <th>Cabrera High School</th>\n      <td>83.676136</td>\n      <td>84.253219</td>\n      <td>83.788382</td>\n      <td>84.287958</td>\n    </tr>\n    <tr>\n      <th>Figueroa High School</th>\n      <td>81.198598</td>\n      <td>81.408912</td>\n      <td>80.640339</td>\n      <td>81.384863</td>\n    </tr>\n    <tr>\n      <th>Ford High School</th>\n      <td>80.632653</td>\n      <td>81.262712</td>\n      <td>80.403642</td>\n      <td>80.662338</td>\n    </tr>\n    <tr>\n      <th>Griffin High School</th>\n      <td>83.369193</td>\n      <td>83.706897</td>\n      <td>84.288089</td>\n      <td>84.013699</td>\n    </tr>\n    <tr>\n      <th>Hernandez High School</th>\n      <td>80.866860</td>\n      <td>80.660147</td>\n      <td>81.396140</td>\n      <td>80.857143</td>\n    </tr>\n    <tr>\n      <th>Holden High School</th>\n      <td>83.677165</td>\n      <td>83.324561</td>\n      <td>83.815534</td>\n      <td>84.698795</td>\n    </tr>\n    <tr>\n      <th>Huang High School</th>\n      <td>81.290284</td>\n      <td>81.512386</td>\n      <td>81.417476</td>\n      <td>80.305983</td>\n    </tr>\n    <tr>\n      <th>Johnson High School</th>\n      <td>81.260714</td>\n      <td>80.773431</td>\n      <td>80.616027</td>\n      <td>81.227564</td>\n    </tr>\n    <tr>\n      <th>Pena High School</th>\n      <td>83.807273</td>\n      <td>83.612000</td>\n      <td>84.335938</td>\n      <td>84.591160</td>\n    </tr>\n    <tr>\n      <th>Rodriguez High School</th>\n      <td>80.993127</td>\n      <td>80.629808</td>\n      <td>80.864811</td>\n      <td>80.376426</td>\n    </tr>\n    <tr>\n      <th>Shelton High School</th>\n      <td>84.122642</td>\n      <td>83.441964</td>\n      <td>84.373786</td>\n      <td>82.781671</td>\n    </tr>\n    <tr>\n      <th>Thomas High School</th>\n      <td>83.728850</td>\n      <td>84.254157</td>\n      <td>83.585542</td>\n      <td>83.831361</td>\n    </tr>\n    <tr>\n      <th>Wilson High School</th>\n      <td>83.939778</td>\n      <td>84.021452</td>\n      <td>83.764608</td>\n      <td>84.317673</td>\n    </tr>\n    <tr>\n      <th>Wright High School</th>\n      <td>83.833333</td>\n      <td>83.812757</td>\n      <td>84.156322</td>\n      <td>84.073171</td>\n    </tr>\n  </tbody>\n</table>\n</div>"
     },
     "metadata": {},
     "execution_count": 33
    }
   ],
   "source": [
    "# Reading scores by grade\n",
    "\n",
    "# 9th grade reading\n",
    "average_ninth_read = ninth_graders_df.groupby([\"school_name\"]).mean()[\"reading_score\"]\n",
    "\n",
    "# 10th grade reading\n",
    "average_tenth_read = tenth_graders_df.groupby([\"school_name\"]).mean()[\"reading_score\"]\n",
    "\n",
    "# 11th grade reading\n",
    "average_eleventh_read = eleventh_graders_df.groupby([\"school_name\"]).mean()[\"reading_score\"]\n",
    "\n",
    "# 12th grade reading\n",
    "average_twelvth_read = twelvth_grader_df.groupby([\"school_name\"]).mean()[\"reading_score\"]\n",
    "\n",
    "#create the summary dataframe\n",
    "\n",
    "grade_reading_summary_df = pd.DataFrame({\"9th\": average_ninth_read, \"10th\": average_tenth_read, \"11th\": average_eleventh_read, \"12th\": average_twelvth_read})\n",
    "\n",
    "grade_reading_summary_df"
   ]
  },
  {
   "cell_type": "code",
   "execution_count": 47,
   "metadata": {},
   "outputs": [
    {
     "output_type": "execute_result",
     "data": {
      "text/plain": "              Average Math Score  Average Reading Score  % Passed Math  \\\nbudget group                                                             \n<$584                  83.455399              83.933814      93.460096   \n$585-629               81.899826              83.155286      87.133538   \n$630-644               78.518855              81.624473      73.484209   \n$645-675               76.997210              81.027843      66.164813   \n\n              % Passed Reading  % Overall Passing  \nbudget group                                       \n<$584                96.610877          90.369459  \n$585-629             92.718205          81.418596  \n$630-644             84.391793          62.857656  \n$645-675             81.133951          53.526855  ",
      "text/html": "<div>\n<style scoped>\n    .dataframe tbody tr th:only-of-type {\n        vertical-align: middle;\n    }\n\n    .dataframe tbody tr th {\n        vertical-align: top;\n    }\n\n    .dataframe thead th {\n        text-align: right;\n    }\n</style>\n<table border=\"1\" class=\"dataframe\">\n  <thead>\n    <tr style=\"text-align: right;\">\n      <th></th>\n      <th>Average Math Score</th>\n      <th>Average Reading Score</th>\n      <th>% Passed Math</th>\n      <th>% Passed Reading</th>\n      <th>% Overall Passing</th>\n    </tr>\n    <tr>\n      <th>budget group</th>\n      <th></th>\n      <th></th>\n      <th></th>\n      <th></th>\n      <th></th>\n    </tr>\n  </thead>\n  <tbody>\n    <tr>\n      <th>&lt;$584</th>\n      <td>83.455399</td>\n      <td>83.933814</td>\n      <td>93.460096</td>\n      <td>96.610877</td>\n      <td>90.369459</td>\n    </tr>\n    <tr>\n      <th>$585-629</th>\n      <td>81.899826</td>\n      <td>83.155286</td>\n      <td>87.133538</td>\n      <td>92.718205</td>\n      <td>81.418596</td>\n    </tr>\n    <tr>\n      <th>$630-644</th>\n      <td>78.518855</td>\n      <td>81.624473</td>\n      <td>73.484209</td>\n      <td>84.391793</td>\n      <td>62.857656</td>\n    </tr>\n    <tr>\n      <th>$645-675</th>\n      <td>76.997210</td>\n      <td>81.027843</td>\n      <td>66.164813</td>\n      <td>81.133951</td>\n      <td>53.526855</td>\n    </tr>\n  </tbody>\n</table>\n</div>"
     },
     "metadata": {},
     "execution_count": 47
    }
   ],
   "source": [
    "# Scores by school spending (average and % passing reading and math, overall passing %)\n",
    "# range bins\n",
    "bins = [0, 584, 629, 644, 675]\n",
    "\n",
    "group_labels = [\"<$584\", \"$585-629\", \"$630-644\", \"$645-675\"]\n",
    "\n",
    "# Slice the data and place it into bins\n",
    "school_summary_df[\"budget group\"] = pd.cut(school_summary_df[\"Per Student Budget\"], bins, labels=group_labels)\n",
    "\n",
    "schools_by_spend = school_summary_df\n",
    "schools_by_spend = schools_by_spend.groupby(\"budget group\")\n",
    "schools_by_spend[[\"Average Math Score\", \"Average Reading Score\", \"% Passed Math\", \"% Passed Reading\", \"% Overall Passing\"]].mean()\n"
   ]
  },
  {
   "cell_type": "code",
   "execution_count": 51,
   "metadata": {},
   "outputs": [
    {
     "output_type": "execute_result",
     "data": {
      "text/plain": "             Average Math Score  Average Reading Score  % Passed Math  \\\nschool size                                                             \n<1000                 83.821598              83.929843      93.550225   \n1000-2000             83.374684              83.864438      93.599695   \n2000-5000             77.746417              81.344493      69.963361   \n\n             % Passed Reading  % Overall Passing  \nschool size                                       \n<1000               96.099437          89.883853  \n1000-2000           96.790680          90.621535  \n2000-5000           82.766634          58.286003  ",
      "text/html": "<div>\n<style scoped>\n    .dataframe tbody tr th:only-of-type {\n        vertical-align: middle;\n    }\n\n    .dataframe tbody tr th {\n        vertical-align: top;\n    }\n\n    .dataframe thead th {\n        text-align: right;\n    }\n</style>\n<table border=\"1\" class=\"dataframe\">\n  <thead>\n    <tr style=\"text-align: right;\">\n      <th></th>\n      <th>Average Math Score</th>\n      <th>Average Reading Score</th>\n      <th>% Passed Math</th>\n      <th>% Passed Reading</th>\n      <th>% Overall Passing</th>\n    </tr>\n    <tr>\n      <th>school size</th>\n      <th></th>\n      <th></th>\n      <th></th>\n      <th></th>\n      <th></th>\n    </tr>\n  </thead>\n  <tbody>\n    <tr>\n      <th>&lt;1000</th>\n      <td>83.821598</td>\n      <td>83.929843</td>\n      <td>93.550225</td>\n      <td>96.099437</td>\n      <td>89.883853</td>\n    </tr>\n    <tr>\n      <th>1000-2000</th>\n      <td>83.374684</td>\n      <td>83.864438</td>\n      <td>93.599695</td>\n      <td>96.790680</td>\n      <td>90.621535</td>\n    </tr>\n    <tr>\n      <th>2000-5000</th>\n      <td>77.746417</td>\n      <td>81.344493</td>\n      <td>69.963361</td>\n      <td>82.766634</td>\n      <td>58.286003</td>\n    </tr>\n  </tbody>\n</table>\n</div>"
     },
     "metadata": {},
     "execution_count": 51
    }
   ],
   "source": [
    "# Scores by school size\n",
    "# range bins\n",
    "bins = [0, 1000, 2000, 5000]\n",
    "\n",
    "group_labels = [\"<1000\", \"1000-2000\", \"2000-5000\"]\n",
    "\n",
    "# Slice the data and place it into bins\n",
    "school_summary_df[\"school size\"] = pd.cut(school_summary_df[\"Total Students\"], bins, labels=group_labels)\n",
    "\n",
    "schools_by_size = school_summary_df\n",
    "schools_by_size = schools_by_size.groupby(\"school size\")\n",
    "schools_by_size[[\"Average Math Score\", \"Average Reading Score\", \"% Passed Math\", \"% Passed Reading\", \"% Overall Passing\"]].mean()"
   ]
  },
  {
   "cell_type": "code",
   "execution_count": 52,
   "metadata": {},
   "outputs": [
    {
     "output_type": "execute_result",
     "data": {
      "text/plain": "          Average Math Score  Average Reading Score  % Passed Math  \\\ntype                                                                 \nCharter            83.473852              83.896421      93.620830   \nDistrict           76.956733              80.966636      66.548453   \n\n          % Passed Reading  % Overall Passing  \ntype                                           \nCharter          96.586489          90.432244  \nDistrict         80.799062          53.672208  ",
      "text/html": "<div>\n<style scoped>\n    .dataframe tbody tr th:only-of-type {\n        vertical-align: middle;\n    }\n\n    .dataframe tbody tr th {\n        vertical-align: top;\n    }\n\n    .dataframe thead th {\n        text-align: right;\n    }\n</style>\n<table border=\"1\" class=\"dataframe\">\n  <thead>\n    <tr style=\"text-align: right;\">\n      <th></th>\n      <th>Average Math Score</th>\n      <th>Average Reading Score</th>\n      <th>% Passed Math</th>\n      <th>% Passed Reading</th>\n      <th>% Overall Passing</th>\n    </tr>\n    <tr>\n      <th>type</th>\n      <th></th>\n      <th></th>\n      <th></th>\n      <th></th>\n      <th></th>\n    </tr>\n  </thead>\n  <tbody>\n    <tr>\n      <th>Charter</th>\n      <td>83.473852</td>\n      <td>83.896421</td>\n      <td>93.620830</td>\n      <td>96.586489</td>\n      <td>90.432244</td>\n    </tr>\n    <tr>\n      <th>District</th>\n      <td>76.956733</td>\n      <td>80.966636</td>\n      <td>66.548453</td>\n      <td>80.799062</td>\n      <td>53.672208</td>\n    </tr>\n  </tbody>\n</table>\n</div>"
     },
     "metadata": {},
     "execution_count": 52
    }
   ],
   "source": [
    "# Scores by school type\n",
    "\n",
    "schools_by_type = school_summary_df\n",
    "schools_by_type = schools_by_type.groupby(\"type\")\n",
    "schools_by_type[[\"Average Math Score\", \"Average Reading Score\", \"% Passed Math\", \"% Passed Reading\", \"% Overall Passing\"]].mean()"
   ]
  },
  {
   "cell_type": "code",
   "execution_count": null,
   "metadata": {},
   "outputs": [],
   "source": []
  }
 ],
 "metadata": {
  "kernelspec": {
   "display_name": "Python 3",
   "language": "python",
   "name": "python3"
  },
  "language_info": {
   "codemirror_mode": {
    "name": "ipython",
    "version": 3
   },
   "file_extension": ".py",
   "mimetype": "text/x-python",
   "name": "python",
   "nbconvert_exporter": "python",
   "pygments_lexer": "ipython3",
   "version": "3.7.6-final"
  }
 },
 "nbformat": 4,
 "nbformat_minor": 2
}